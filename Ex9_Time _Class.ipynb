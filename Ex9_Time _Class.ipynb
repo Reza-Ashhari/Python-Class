{
 "cells": [
  {
   "cell_type": "code",
   "execution_count": 17,
   "metadata": {},
   "outputs": [],
   "source": [
    "class Time:\n",
    "    def __init__ (arg, arg_H=0, arg_M=0, arg_S=0 ):\n",
    "        arg.Hour = arg_H\n",
    "        arg.Minute = arg_M\n",
    "        arg.Second = arg_S\n",
    "    def Show(arg):\n",
    "        return str(arg.Hour) + ':' + str(arg.Minute) + ':' + str(arg.Second)\n",
    "    def __str__(self):\n",
    "        return str(self.Hour) + ':' + str(self.Minute) + ':' + str(self.Second)\n",
    "    def __repr__(self):\n",
    "        return str(self.Hour) + ':' + str(self.Minute) + ':' + str(self.Second)\n",
    "    def __add__ (self, other):\n",
    "        add_second = self.Second + other.Second \n",
    "        add_minute = self.Minute + other.Minute\n",
    "        add_hour = self.Hour + other.Hour\n",
    "        if add_second >= 60:\n",
    "            add_second -= 60\n",
    "            add_minute += 1\n",
    "        if add_minute >= 60:\n",
    "            add_minute -= 60\n",
    "            add_hour += 1\n",
    "        if add_hour >= 24:\n",
    "            add_hour -= 24\n",
    "        return str(add_hour) + ':' + str(add_minute) + ':' + str(add_second)\n",
    "    def __sub__ (self, other):\n",
    "        sub_second = self.Second - other.Second \n",
    "        sub_minute = self.Minute - other.Minute\n",
    "        sub_hour = self.Hour - other.Hour\n",
    "        if sub_second < 0:\n",
    "            sub_second += 60\n",
    "            sub_minute -= 1\n",
    "        if sub_minute < 0:\n",
    "            sub_minute += 60\n",
    "            sub_hour -= 1\n",
    "        if sub_hour < 0:\n",
    "            sub_hour += 24\n",
    "        return str(sub_hour) + ':' + str(sub_minute) + ':' + str(sub_second)\n",
    "    def __gt__ (self, other):\n",
    "        self_seconds = self.Second + (60*self.Minute) + (3600*self.Hour)\n",
    "        other_seconds = other.Second + (60*other.Minute) + (3600*other.Hour)\n",
    "        if self_seconds > other_seconds:\n",
    "            return True\n",
    "        else:\n",
    "            return False\n",
    "    def __eq__ (self, other):\n",
    "        if self.Second==other.Second and self.Minute==other.Minute and self.Hour==other.Hour :\n",
    "            return True\n",
    "        else:\n",
    "            return False\n",
    "\n"
   ]
  },
  {
   "cell_type": "code",
   "execution_count": 18,
   "metadata": {},
   "outputs": [],
   "source": [
    "T1 = Time (14,58,36)\n",
    "T2 = Time (12,8,27)\n",
    "T4 = Time (23, 21, 51)\n",
    "T5 = Time (23, 21, 51)"
   ]
  },
  {
   "cell_type": "code",
   "execution_count": 19,
   "metadata": {},
   "outputs": [
    {
     "data": {
      "text/plain": [
       "'3:7:3'"
      ]
     },
     "execution_count": 19,
     "metadata": {},
     "output_type": "execute_result"
    }
   ],
   "source": [
    "T1 + T2"
   ]
  },
  {
   "cell_type": "code",
   "execution_count": 20,
   "metadata": {},
   "outputs": [
    {
     "data": {
      "text/plain": [
       "'21:9:51'"
      ]
     },
     "execution_count": 20,
     "metadata": {},
     "output_type": "execute_result"
    }
   ],
   "source": [
    "T2 - T1"
   ]
  },
  {
   "cell_type": "code",
   "execution_count": 21,
   "metadata": {},
   "outputs": [
    {
     "data": {
      "text/plain": [
       "True"
      ]
     },
     "execution_count": 21,
     "metadata": {},
     "output_type": "execute_result"
    }
   ],
   "source": [
    "T1 > T2"
   ]
  },
  {
   "cell_type": "code",
   "execution_count": 22,
   "metadata": {},
   "outputs": [
    {
     "data": {
      "text/plain": [
       "False"
      ]
     },
     "execution_count": 22,
     "metadata": {},
     "output_type": "execute_result"
    }
   ],
   "source": [
    "T4 < T5"
   ]
  },
  {
   "cell_type": "code",
   "execution_count": 23,
   "metadata": {},
   "outputs": [
    {
     "data": {
      "text/plain": [
       "True"
      ]
     },
     "execution_count": 23,
     "metadata": {},
     "output_type": "execute_result"
    }
   ],
   "source": [
    "T4 == T5"
   ]
  }
 ],
 "metadata": {
  "kernelspec": {
   "display_name": "Python 3",
   "language": "python",
   "name": "python3"
  },
  "language_info": {
   "codemirror_mode": {
    "name": "ipython",
    "version": 3
   },
   "file_extension": ".py",
   "mimetype": "text/x-python",
   "name": "python",
   "nbconvert_exporter": "python",
   "pygments_lexer": "ipython3",
   "version": "3.7.4"
  }
 },
 "nbformat": 4,
 "nbformat_minor": 2
}
