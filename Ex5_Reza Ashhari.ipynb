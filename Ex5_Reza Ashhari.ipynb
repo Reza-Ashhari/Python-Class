{
 "cells": [
  {
   "cell_type": "markdown",
   "metadata": {},
   "source": [
    "# 069"
   ]
  },
  {
   "cell_type": "code",
   "execution_count": 40,
   "metadata": {},
   "outputs": [
    {
     "name": "stdout",
     "output_type": "stream",
     "text": [
      "Iran\n",
      "Iraq\n",
      "China\n",
      "Japan\n",
      "Russia\n",
      "Enter one of the countries: Iraq\n",
      "1\n"
     ]
    }
   ],
   "source": [
    "Country = ('Iran', 'Iraq', 'China', 'Japan', 'Russia')\n",
    "for i in Country:\n",
    "    print(i)\n",
    "Choise = input('Enter one of the countries: ')\n",
    "print(Country.index(Choise))"
   ]
  },
  {
   "cell_type": "markdown",
   "metadata": {},
   "source": [
    "# 070"
   ]
  },
  {
   "cell_type": "code",
   "execution_count": null,
   "metadata": {},
   "outputs": [
    {
     "name": "stdout",
     "output_type": "stream",
     "text": [
      "Iran\n",
      "Iraq\n",
      "China\n",
      "Japan\n",
      "Russia\n"
     ]
    }
   ],
   "source": [
    "Country = ('Iran', 'Iraq', 'China', 'Japan', 'Russia')\n",
    "for i in Country:\n",
    "    print(i)\n",
    "Choise = input('Enter one of the countries: ')\n",
    "print(Country.index(Choise))\n",
    "Num = int(input('Enter a number: '))\n",
    "print(Country[Num])"
   ]
  },
  {
   "cell_type": "markdown",
   "metadata": {},
   "source": [
    "# 071"
   ]
  },
  {
   "cell_type": "code",
   "execution_count": 2,
   "metadata": {},
   "outputs": [
    {
     "name": "stdout",
     "output_type": "stream",
     "text": [
      "What is your favorite sport? basketball\n",
      "['basketball', 'succer', 'swimming']\n"
     ]
    }
   ],
   "source": [
    "Sports = ['succer', 'swimming']\n",
    "Input = input('What is your favorite sport? ')\n",
    "Sports.append(Input)\n",
    "Sports.sort()\n",
    "print (Sports)"
   ]
  },
  {
   "cell_type": "markdown",
   "metadata": {},
   "source": [
    "# 072"
   ]
  },
  {
   "cell_type": "code",
   "execution_count": 3,
   "metadata": {},
   "outputs": [
    {
     "name": "stdout",
     "output_type": "stream",
     "text": [
      "['Algebra', 'Geometry', 'Physics', 'Chemistry', 'Geography', 'History']\n",
      "Which of these subjects do not you like? Geometry\n",
      "['Algebra', 'Physics', 'Chemistry', 'Geography', 'History']\n"
     ]
    }
   ],
   "source": [
    "Courses = ['Algebra', 'Geometry', 'Physics', 'Chemistry', 'Geography', 'History']\n",
    "print(Courses)\n",
    "Choise = input('Which of these subjects do not you like? ')\n",
    "Courses.remove(Choise)\n",
    "print(Courses)"
   ]
  },
  {
   "cell_type": "markdown",
   "metadata": {},
   "source": [
    "# 073"
   ]
  },
  {
   "cell_type": "code",
   "execution_count": 11,
   "metadata": {},
   "outputs": [
    {
     "name": "stdout",
     "output_type": "stream",
     "text": [
      "Enter the name of the first food that you like: Pizza\n",
      "Enter the name of the second food that you like: Sandwich\n",
      "Enter the name of the third food that you like: Kabab\n",
      "Enter the name of the forth food that you like: Fish\n",
      "Which one do you want to get rid of? Fish\n",
      "{1: 'Pizza', 2: 'Sandwich', 3: 'Kabab'}\n"
     ]
    }
   ],
   "source": [
    "food1 = input('Enter the name of the first food that you like: ')\n",
    "food2 = input('Enter the name of the second food that you like: ')\n",
    "food3 = input('Enter the name of the third food that you like: ')\n",
    "food4 = input('Enter the name of the forth food that you like: ')\n",
    "Food = {1:food1, 2:food2, 3:food3, 4:food4}\n",
    "fooddel = input('Which one do you want to get rid of? ')\n",
    "for i in range(1,5):\n",
    "    if Food[i] == fooddel:\n",
    "        Food.pop(i)\n",
    "print(Food)"
   ]
  },
  {
   "cell_type": "markdown",
   "metadata": {},
   "source": [
    "# 074"
   ]
  },
  {
   "cell_type": "code",
   "execution_count": 4,
   "metadata": {},
   "outputs": [
    {
     "name": "stdout",
     "output_type": "stream",
     "text": [
      "Enter a starting number between 0 & 4: 2\n",
      "Enter an ending number between 5 & 9: 6\n",
      "Green\n",
      "Red\n",
      "Blue\n",
      "Yellow\n",
      "Pink\n"
     ]
    }
   ],
   "source": [
    "Colours = ['Black', 'White', 'Green', 'Red', 'Blue', 'Yellow', 'Pink', 'Purple', 'Gray', 'Brown']\n",
    "Num1 = int(input('Enter a starting number between 0 & 4: '))\n",
    "Num2 = int(input('Enter an ending number between 5 & 9: '))\n",
    "while Num1 <= Num2:\n",
    "    print(Colours[Num1])\n",
    "    Num1 += 1"
   ]
  },
  {
   "cell_type": "markdown",
   "metadata": {},
   "source": [
    "# 075"
   ]
  },
  {
   "cell_type": "code",
   "execution_count": 10,
   "metadata": {},
   "outputs": [
    {
     "name": "stdout",
     "output_type": "stream",
     "text": [
      "164\n",
      "608\n",
      "962\n",
      "Enter a three-digit number: 962\n",
      "2\n"
     ]
    }
   ],
   "source": [
    "Numbers = [164, 608, 962]\n",
    "for i in Numbers:\n",
    "    print(i)\n",
    "Num = int(input('Enter a three-digit number: '))\n",
    "if Num in Numbers:\n",
    "    print(Numbers.index(Num))\n",
    "else:\n",
    "    print('That is not in the list')\n"
   ]
  },
  {
   "cell_type": "markdown",
   "metadata": {},
   "source": [
    "# 076"
   ]
  },
  {
   "cell_type": "code",
   "execution_count": null,
   "metadata": {},
   "outputs": [],
   "source": [
    "Person1 = input('Enter the name of the first person you wanna invite to the party: ')\n",
    "Person2 = input('Enter the name of the second person you wanna invite to the party: ')\n",
    "Person3 = input('Enter the name of the third person you wanna invite to the party: ')\n",
    "People = [Person1, Person2, Person3]\n",
    "Answer = 'yes'\n",
    "while Answer == 'yes':\n",
    "    Answer = input('Do you want to add another person? ')\n",
    "    Answer = Answer.lower()\n",
    "    if Answer == 'yes':\n",
    "        New = input('Enter his/her name: ')\n",
    "        People.append(New)\n",
    "print('You have invited', len(People), 'people to the party')"
   ]
  },
  {
   "cell_type": "code",
   "execution_count": null,
   "metadata": {},
   "outputs": [],
   "source": []
  }
 ],
 "metadata": {
  "kernelspec": {
   "display_name": "Python 3",
   "language": "python",
   "name": "python3"
  },
  "language_info": {
   "codemirror_mode": {
    "name": "ipython",
    "version": 3
   },
   "file_extension": ".py",
   "mimetype": "text/x-python",
   "name": "python",
   "nbconvert_exporter": "python",
   "pygments_lexer": "ipython3",
   "version": "3.7.4"
  }
 },
 "nbformat": 4,
 "nbformat_minor": 2
}
