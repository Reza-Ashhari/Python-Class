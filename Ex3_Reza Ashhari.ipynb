{
 "cells": [
  {
   "cell_type": "code",
   "execution_count": 3,
   "metadata": {},
   "outputs": [
    {
     "name": "stdout",
     "output_type": "stream",
     "text": [
      "Enter Number of the Day: 10\n",
      "Enter Number of the Month: 5\n",
      "Enter Number of the Year: 2004\n",
      "131\n"
     ]
    }
   ],
   "source": [
    "Day = int(input('Enter Number of the Day: '))\n",
    "Month = int(input('Enter Number of the Month: '))\n",
    "Year = int(input('Enter Number of the Year: '))\n",
    "Months = [31, 28, 31, 30, 31, 30, 31, 31, 30, 31, 30, 31]\n",
    "if (Year%4==0 and Year%100!=0) or Year%400==0:\n",
    "    Months[1] = 29\n",
    "print(sum(Months[:Month-1])+Day)"
   ]
  },
  {
   "cell_type": "code",
   "execution_count": null,
   "metadata": {},
   "outputs": [],
   "source": []
  }
 ],
 "metadata": {
  "kernelspec": {
   "display_name": "Python 3",
   "language": "python",
   "name": "python3"
  },
  "language_info": {
   "codemirror_mode": {
    "name": "ipython",
    "version": 3
   },
   "file_extension": ".py",
   "mimetype": "text/x-python",
   "name": "python",
   "nbconvert_exporter": "python",
   "pygments_lexer": "ipython3",
   "version": "3.7.4"
  }
 },
 "nbformat": 4,
 "nbformat_minor": 2
}
