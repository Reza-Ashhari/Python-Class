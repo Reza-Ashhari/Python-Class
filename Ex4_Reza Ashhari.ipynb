{
 "cells": [
  {
   "cell_type": "markdown",
   "metadata": {},
   "source": [
    "# 012"
   ]
  },
  {
   "cell_type": "code",
   "execution_count": 1,
   "metadata": {},
   "outputs": [
    {
     "name": "stdout",
     "output_type": "stream",
     "text": [
      "Enter the First Number: 12\n",
      "Enter the Second Number: 23\n",
      "12 \t 23\n"
     ]
    }
   ],
   "source": [
    "Num1 = int(input('Enter the First Number: '))\n",
    "Num2 = int(input('Enter the Second Number: '))\n",
    "if Num1 > Num2:\n",
    "    print(Num2 , '\\t' , Num1)\n",
    "else:\n",
    "    print(Num1 , '\\t' , Num2)"
   ]
  },
  {
   "cell_type": "markdown",
   "metadata": {},
   "source": [
    "# 013"
   ]
  },
  {
   "cell_type": "code",
   "execution_count": 2,
   "metadata": {},
   "outputs": [
    {
     "name": "stdout",
     "output_type": "stream",
     "text": [
      "Enter a Number under 20: 20\n",
      "Too High\n"
     ]
    }
   ],
   "source": [
    "Num = int(input('Enter a Number under 20: '))\n",
    "if Num < 20:\n",
    "    print('Thank you')\n",
    "else:\n",
    "    print('Too high')"
   ]
  },
  {
   "cell_type": "markdown",
   "metadata": {},
   "source": [
    "# 014"
   ]
  },
  {
   "cell_type": "code",
   "execution_count": 7,
   "metadata": {},
   "outputs": [
    {
     "name": "stdout",
     "output_type": "stream",
     "text": [
      "Enter a Number between 10 & 20: 8\n",
      "Incorrect answer\n"
     ]
    }
   ],
   "source": [
    "Num = int(input('Enter a Number between 10 & 20: '))\n",
    "if Num >= 10 and Num <= 20:\n",
    "    print('Thank You')\n",
    "else:\n",
    "    print('Incorrect answer')"
   ]
  },
  {
   "cell_type": "markdown",
   "metadata": {},
   "source": [
    "# 015"
   ]
  },
  {
   "cell_type": "code",
   "execution_count": 13,
   "metadata": {},
   "outputs": [
    {
     "name": "stdout",
     "output_type": "stream",
     "text": [
      "Enter your favorite colour: green\n",
      "I do not like green ,I prefer red\n"
     ]
    }
   ],
   "source": [
    "Colour = input('Enter your favorite colour: ')\n",
    "if Colour=='red' or Colour=='RED' or Colour=='Red':\n",
    "    print('I like red too')\n",
    "else:\n",
    "    print('I do not like', Colour, ',I prefer red')"
   ]
  },
  {
   "cell_type": "markdown",
   "metadata": {},
   "source": [
    "# 016"
   ]
  },
  {
   "cell_type": "code",
   "execution_count": 19,
   "metadata": {},
   "outputs": [
    {
     "name": "stdout",
     "output_type": "stream",
     "text": [
      "Is it raining? Buy\n",
      "Enjoy your day\n"
     ]
    }
   ],
   "source": [
    "Answer1 = input('Is it raining? ')\n",
    "Answer1 = Answer1.lower()\n",
    "if Answer1 == 'yes':\n",
    "    Answer2 = input('Is it windy? ')\n",
    "    Answer2 = Answer2.lower()\n",
    "    if Answer2 == 'yes':\n",
    "        print('It is too windy for an umbrella')\n",
    "    else:\n",
    "        print('Take an umbrella')\n",
    "else:\n",
    "    print('Enjoy your day')"
   ]
  },
  {
   "cell_type": "markdown",
   "metadata": {},
   "source": [
    "# 017"
   ]
  },
  {
   "cell_type": "code",
   "execution_count": 24,
   "metadata": {},
   "outputs": [
    {
     "name": "stdout",
     "output_type": "stream",
     "text": [
      "How old are you? 2\n",
      "You can go Trick-or-Treating\n"
     ]
    }
   ],
   "source": [
    "Age = int(input('How old are you? '))\n",
    "if Age >= 18:\n",
    "    print('You can vote')\n",
    "elif Age == 17:\n",
    "    print('You can learn to drive')\n",
    "elif Age == 16:\n",
    "    print('You can buy a lottery ticket')\n",
    "else:\n",
    "    print('You can go Trick-or-Treating')"
   ]
  },
  {
   "cell_type": "markdown",
   "metadata": {},
   "source": [
    "# 018"
   ]
  },
  {
   "cell_type": "code",
   "execution_count": 29,
   "metadata": {},
   "outputs": [
    {
     "name": "stdout",
     "output_type": "stream",
     "text": [
      "Enter a Number: 2\n",
      "Too low\n"
     ]
    }
   ],
   "source": [
    "Num = int(input('Enter a Number: '))\n",
    "if Num < 10:\n",
    "    print('Too low')\n",
    "elif Num >= 10 and Num <= 20:\n",
    "    print('Correct')\n",
    "else:\n",
    "    print('Too high')"
   ]
  },
  {
   "cell_type": "markdown",
   "metadata": {},
   "source": [
    "# 019"
   ]
  },
  {
   "cell_type": "code",
   "execution_count": 33,
   "metadata": {},
   "outputs": [
    {
     "name": "stdout",
     "output_type": "stream",
     "text": [
      "Enter 1, 2 or 3: -6\n",
      "Error message\n"
     ]
    }
   ],
   "source": [
    "Num = int(input('Enter 1, 2 or 3: '))\n",
    "if Num == 1:\n",
    "    print('Thank you')\n",
    "elif Num == 2:\n",
    "    print('Well done')\n",
    "elif Num == 3:\n",
    "    print('Correct')\n",
    "else:\n",
    "    print('Error message')"
   ]
  }
 ],
 "metadata": {
  "kernelspec": {
   "display_name": "Python 3",
   "language": "python",
   "name": "python3"
  },
  "language_info": {
   "codemirror_mode": {
    "name": "ipython",
    "version": 3
   },
   "file_extension": ".py",
   "mimetype": "text/x-python",
   "name": "python",
   "nbconvert_exporter": "python",
   "pygments_lexer": "ipython3",
   "version": "3.7.4"
  }
 },
 "nbformat": 4,
 "nbformat_minor": 2
}
