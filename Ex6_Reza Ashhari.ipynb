{
 "cells": [
  {
   "cell_type": "markdown",
   "metadata": {},
   "source": [
    "# 045"
   ]
  },
  {
   "cell_type": "code",
   "execution_count": 2,
   "metadata": {},
   "outputs": [
    {
     "name": "stdout",
     "output_type": "stream",
     "text": [
      "The total is 0\n",
      "Enter a number: 25\n",
      "The total is 25\n",
      "Enter a number: 22\n",
      "The total is 47\n",
      "Enter a number: 3\n",
      "The total is 50\n",
      "Enter a number: 1\n"
     ]
    }
   ],
   "source": [
    "total = 0\n",
    "while total <= 50:\n",
    "    print('The total is', total)\n",
    "    Num = int(input('Enter a number: '))\n",
    "    total += Num\n",
    "\n",
    "   "
   ]
  },
  {
   "cell_type": "markdown",
   "metadata": {},
   "source": [
    "# 046"
   ]
  },
  {
   "cell_type": "code",
   "execution_count": 3,
   "metadata": {},
   "outputs": [
    {
     "name": "stdout",
     "output_type": "stream",
     "text": [
      "Enter a number: 0\n",
      "Enter a number: 2\n",
      "Enter a number: -9\n",
      "Enter a number: 5\n",
      "Enter a number: 6\n",
      "The last number you entered was 6\n"
     ]
    }
   ],
   "source": [
    "Num = 0\n",
    "while Num <= 5:\n",
    "    Num = int(input('Enter a number: '))\n",
    "print('The last number you entered was', Num)"
   ]
  },
  {
   "cell_type": "markdown",
   "metadata": {},
   "source": [
    "# 047"
   ]
  },
  {
   "cell_type": "code",
   "execution_count": 6,
   "metadata": {},
   "outputs": [
    {
     "name": "stdout",
     "output_type": "stream",
     "text": [
      "Enter a number: 55\n",
      "Enter another number: 68\n",
      "Do you wanna add another number? y\n",
      "Enter another number: 2\n",
      "Do you wanna add another number? n\n",
      "Total = 125\n"
     ]
    }
   ],
   "source": [
    "Num1 = int(input('Enter a number: '))\n",
    "Num2 = int(input('Enter another number: '))\n",
    "Num1 += Num2\n",
    "Answer = input('Do you wanna add another number? ')\n",
    "while Answer == 'y':\n",
    "    Num2 = int(input('Enter another number: '))\n",
    "    Num1 += Num2\n",
    "    Answer = input('Do you wanna add another number? ')\n",
    "print('Total =', Num1)\n",
    "    "
   ]
  },
  {
   "cell_type": "markdown",
   "metadata": {},
   "source": [
    "# 048"
   ]
  },
  {
   "cell_type": "code",
   "execution_count": 1,
   "metadata": {},
   "outputs": [
    {
     "name": "stdout",
     "output_type": "stream",
     "text": [
      "Who do you wanna invite to the party? Reza\n",
      "Reza has been invited\n",
      "Do you wanna invite somebody else? y\n",
      "Who do you wanna invite to the party? Ali\n",
      "Ali has been invited\n",
      "Do you wanna invite somebody else? y\n",
      "Who do you wanna invite to the party? Hassan\n",
      "Hassan has been invited\n",
      "Do you wanna invite somebody else? n\n",
      "3 people you have coming to the party\n"
     ]
    }
   ],
   "source": [
    "count = 0\n",
    "Person = input('Who do you wanna invite to the party? ')\n",
    "print(Person, 'has been invited')\n",
    "count += 1\n",
    "Answer = input('Do you wanna invite somebody else? ')\n",
    "while Answer == 'y':\n",
    "    Person = input('Who do you wanna invite to the party? ')\n",
    "    print(Person, 'has been invited')\n",
    "    count += 1\n",
    "    Answer = input('Do you wanna invite somebody else? ')\n",
    "print(count, 'people you have coming to the party')\n"
   ]
  },
  {
   "cell_type": "markdown",
   "metadata": {},
   "source": [
    "# 049"
   ]
  },
  {
   "cell_type": "code",
   "execution_count": 9,
   "metadata": {},
   "outputs": [
    {
     "name": "stdout",
     "output_type": "stream",
     "text": [
      "Enter a number: 23\n",
      "Your guess is too low, Make another guess: 56\n",
      "Your guess is too high, Make another guess: 52\n",
      "Your guess is too high, Make another guess: 49\n",
      "Your guess is too low, Make another guess: 50\n",
      "Well done, You took 5 attempts\n"
     ]
    }
   ],
   "source": [
    "compnum = 50\n",
    "count = 1\n",
    "Num = int(input('Enter a number: '))\n",
    "while Num != compnum:\n",
    "    if Num > compnum:\n",
    "        Num = int(input('Your guess is too high, Make another guess: '))\n",
    "        count += 1\n",
    "    else:\n",
    "        Num = int(input('Your guess is too low, Make another guess: '))\n",
    "        count += 1\n",
    "print('Well done, You took', count, 'attempts')\n"
   ]
  },
  {
   "cell_type": "markdown",
   "metadata": {},
   "source": [
    "# 050"
   ]
  },
  {
   "cell_type": "code",
   "execution_count": 11,
   "metadata": {},
   "outputs": [
    {
     "name": "stdout",
     "output_type": "stream",
     "text": [
      "Enter a Number between 10 & 20: 9\n",
      "Too low, Please try again: 30\n",
      "Too high, Please try again: 45\n",
      "Too high, Please try again: 20\n",
      "Thank you\n"
     ]
    }
   ],
   "source": [
    "Num = int(input('Enter a Number between 10 & 20: '))\n",
    "while Num < 10 or Num > 20:\n",
    "    if Num < 10:\n",
    "        Num = int(input('Too low, Please try again: '))\n",
    "    else:\n",
    "        Num = int(input('Too high, Please try again: '))\n",
    "print('Thank you')"
   ]
  },
  {
   "cell_type": "markdown",
   "metadata": {},
   "source": [
    "# 051"
   ]
  },
  {
   "cell_type": "code",
   "execution_count": 4,
   "metadata": {},
   "outputs": [
    {
     "name": "stdout",
     "output_type": "stream",
     "text": [
      "There are 3 green bottles hanging on the wall,\n",
      " 3 green bottles hanging on the wall,\n",
      "        and if 1 green bottle should accidently fall\n",
      "\n",
      "How many green bottles will be hanging on the wall? 5\n",
      "No, try again\n",
      "\n",
      "There are 2 green bottles hanging on the wall,\n",
      " 2 green bottles hanging on the wall,\n",
      "        and if 1 green bottle should accidently fall\n",
      "\n",
      "How many green bottles will be hanging on the wall? 6\n",
      "No, try again\n",
      "\n",
      "There are 1 green bottles hanging on the wall,\n",
      " 1 green bottles hanging on the wall,\n",
      "        and if 1 green bottle should accidently fall\n",
      "\n",
      "How many green bottles will be hanging on the wall? 0\n",
      "There will be 0 green bottles hanging on the wall\n"
     ]
    }
   ],
   "source": [
    "num = 3\n",
    "while True:\n",
    "    if num == 0:\n",
    "        print('there are no more green bottles hanging on the wall')\n",
    "        break\n",
    "    else:\n",
    "        print('There are', num, 'green bottles hanging on the wall,\\n', num, 'green bottles hanging on the wall,\\n\\\n",
    "        and if 1 green bottle should accidently fall\\n')\n",
    "    Answer = int(input('How many green bottles will be hanging on the wall? '))\n",
    "    if Answer == num-1:\n",
    "        print('There will be', num-1, 'green bottles hanging on the wall')\n",
    "        break\n",
    "    else:\n",
    "        print('No, try again\\n')\n",
    "    num -= 1\n",
    "        "
   ]
  },
  {
   "cell_type": "code",
   "execution_count": null,
   "metadata": {},
   "outputs": [],
   "source": []
  },
  {
   "cell_type": "code",
   "execution_count": null,
   "metadata": {},
   "outputs": [],
   "source": []
  }
 ],
 "metadata": {
  "kernelspec": {
   "display_name": "Python 3",
   "language": "python",
   "name": "python3"
  },
  "language_info": {
   "codemirror_mode": {
    "name": "ipython",
    "version": 3
   },
   "file_extension": ".py",
   "mimetype": "text/x-python",
   "name": "python",
   "nbconvert_exporter": "python",
   "pygments_lexer": "ipython3",
   "version": "3.7.4"
  }
 },
 "nbformat": 4,
 "nbformat_minor": 2
}
