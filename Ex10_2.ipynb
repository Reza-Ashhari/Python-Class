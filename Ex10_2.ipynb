{
 "cells": [
  {
   "cell_type": "code",
   "execution_count": 11,
   "metadata": {},
   "outputs": [
    {
     "data": {
      "text/plain": [
       "array([[ 1.,  3.,  5.],\n",
       "       [ 7., -9.,  2.],\n",
       "       [ 4.,  6.,  8.]])"
      ]
     },
     "execution_count": 11,
     "metadata": {},
     "output_type": "execute_result"
    }
   ],
   "source": [
    "import numpy as np\n",
    "import matplotlib.pyplot as plt\n",
    "\n",
    "vec1 = np.array([-1., 4., -9.])\n",
    "mat1 = np.array([[1., 3., 5.], [7., -9., 2.], [4., 6., 8.]])\n",
    "mat1"
   ]
  },
  {
   "cell_type": "code",
   "execution_count": 18,
   "metadata": {},
   "outputs": [
    {
     "data": {
      "text/plain": [
       "array([-1.,  4., -9.])"
      ]
     },
     "execution_count": 18,
     "metadata": {},
     "output_type": "execute_result"
    }
   ],
   "source": [
    "vec1"
   ]
  },
  {
   "cell_type": "code",
   "execution_count": 10,
   "metadata": {},
   "outputs": [
    {
     "data": {
      "text/plain": [
       "array([-0.78539816,  3.14159265, -7.06858347])"
      ]
     },
     "execution_count": 10,
     "metadata": {},
     "output_type": "execute_result"
    }
   ],
   "source": [
    "vec2 = (np.pi/4) * vec1\n",
    "vec2"
   ]
  },
  {
   "cell_type": "code",
   "execution_count": 4,
   "metadata": {},
   "outputs": [
    {
     "data": {
      "text/plain": [
       "array([ 0.70710678, -1.        ,  0.70710678])"
      ]
     },
     "execution_count": 4,
     "metadata": {},
     "output_type": "execute_result"
    }
   ],
   "source": [
    "vec2 = np.cos(vec2)\n",
    "vec2"
   ]
  },
  {
   "cell_type": "code",
   "execution_count": 8,
   "metadata": {},
   "outputs": [
    {
     "data": {
      "text/plain": [
       "array([ 0.41421356,  2.        , -7.58578644])"
      ]
     },
     "execution_count": 8,
     "metadata": {},
     "output_type": "execute_result"
    }
   ],
   "source": [
    "vec3 = vec1 + 2*vec2\n",
    "vec3"
   ]
  },
  {
   "cell_type": "code",
   "execution_count": 13,
   "metadata": {},
   "outputs": [
    {
     "data": {
      "text/plain": [
       "array([[  0.41421356,   6.        , -37.92893219],\n",
       "       [  2.89949494, -18.        , -15.17157288],\n",
       "       [  1.65685425,  12.        , -60.6862915 ]])"
      ]
     },
     "execution_count": 13,
     "metadata": {},
     "output_type": "execute_result"
    }
   ],
   "source": [
    "vec4 = mat1 * vec3\n",
    "vec4"
   ]
  },
  {
   "cell_type": "code",
   "execution_count": 14,
   "metadata": {},
   "outputs": [
    {
     "data": {
      "text/plain": [
       "array([[ 1.,  7.,  4.],\n",
       "       [ 3., -9.,  6.],\n",
       "       [ 5.,  2.,  8.]])"
      ]
     },
     "execution_count": 14,
     "metadata": {},
     "output_type": "execute_result"
    }
   ],
   "source": [
    "np.transpose(mat1)"
   ]
  },
  {
   "cell_type": "code",
   "execution_count": 15,
   "metadata": {},
   "outputs": [
    {
     "data": {
      "text/plain": [
       "161.99999999999994"
      ]
     },
     "execution_count": 15,
     "metadata": {},
     "output_type": "execute_result"
    }
   ],
   "source": [
    "np.linalg.det(mat1)"
   ]
  },
  {
   "cell_type": "code",
   "execution_count": 3,
   "metadata": {},
   "outputs": [
    {
     "data": {
      "text/plain": [
       "0.0"
      ]
     },
     "execution_count": 3,
     "metadata": {},
     "output_type": "execute_result"
    }
   ],
   "source": [
    "sum(mat1.diagonal())"
   ]
  },
  {
   "cell_type": "code",
   "execution_count": 16,
   "metadata": {},
   "outputs": [
    {
     "data": {
      "text/plain": [
       "-9.0"
      ]
     },
     "execution_count": 16,
     "metadata": {},
     "output_type": "execute_result"
    }
   ],
   "source": [
    "vec1.min()"
   ]
  },
  {
   "cell_type": "code",
   "execution_count": 17,
   "metadata": {},
   "outputs": [
    {
     "data": {
      "text/plain": [
       "(array([2], dtype=int64),)"
      ]
     },
     "execution_count": 17,
     "metadata": {},
     "output_type": "execute_result"
    }
   ],
   "source": [
    "np.where (vec1 == vec1.min())"
   ]
  },
  {
   "cell_type": "code",
   "execution_count": 20,
   "metadata": {},
   "outputs": [
    {
     "data": {
      "text/plain": [
       "-9.0"
      ]
     },
     "execution_count": 20,
     "metadata": {},
     "output_type": "execute_result"
    }
   ],
   "source": [
    "mat1.min()"
   ]
  },
  {
   "cell_type": "code",
   "execution_count": 20,
   "metadata": {},
   "outputs": [
    {
     "name": "stdout",
     "output_type": "stream",
     "text": [
      "Array is Majic\n"
     ]
    }
   ],
   "source": [
    "A = np.array([[17, 24, 1, 8, 15],\n",
    "             [23, 5, 7, 14, 16],\n",
    "             [4, 6, 13, 20, 22],\n",
    "             [10, 12, 19, 21, 3],\n",
    "             [11, 18, 25, 2, 9]])\n",
    "Arow = np.array (np.sum(A,-1))\n",
    "Acoloumn = np.array (np.sum(A,-2))\n",
    "if Arow.min() == Arow.max() == Acoloumn.min() == Acoloumn.max() == sum(np.diag(A)) == sum(np.diag (np.fliplr(A))):\n",
    "    print('Array is Majic')\n",
    "else:\n",
    "    print('Array is not Majic')"
   ]
  },
  {
   "cell_type": "code",
   "execution_count": 22,
   "metadata": {
    "scrolled": true
   },
   "outputs": [
    {
     "data": {
      "text/plain": [
       "array([[0.01022167, 0.40469858, 0.10968513, 0.1946261 , 0.73798205,\n",
       "        0.85000909, 0.41594916, 0.90762085, 0.6417096 , 0.06705752],\n",
       "       [0.73650149, 0.30536553, 0.80193822, 0.98899016, 0.8619975 ,\n",
       "        0.93103981, 0.9412228 , 0.79275048, 0.58447168, 0.72104743],\n",
       "       [0.61083233, 0.24641727, 0.84528429, 0.1109037 , 0.86603968,\n",
       "        0.27717641, 0.03168498, 0.77204946, 0.44956959, 0.13312381],\n",
       "       [0.2768986 , 0.46158199, 0.00537274, 0.35450895, 0.13786345,\n",
       "        0.00480739, 0.21733972, 0.12584016, 0.07715048, 0.42253813],\n",
       "       [0.93712436, 0.42888546, 0.52968141, 0.58990234, 0.84771578,\n",
       "        0.57985934, 0.98565493, 0.61021718, 0.47498545, 0.00912876],\n",
       "       [0.77022533, 0.15145352, 0.01861592, 0.81428159, 0.69887983,\n",
       "        0.70473351, 0.9251243 , 0.05152425, 0.99253903, 0.66460288],\n",
       "       [0.04082961, 0.86314511, 0.06512412, 0.89090584, 0.27922357,\n",
       "        0.15653369, 0.457588  , 0.77018041, 0.04929072, 0.32482212],\n",
       "       [0.12010715, 0.79364046, 0.5784481 , 0.78221897, 0.89214321,\n",
       "        0.1064703 , 0.16455788, 0.12881173, 0.76329043, 0.72115942],\n",
       "       [0.60862688, 0.1129284 , 0.05796044, 0.33828707, 0.69430135,\n",
       "        0.96888536, 0.57790819, 0.04384869, 0.98380212, 0.12181799],\n",
       "       [0.4932826 , 0.8053596 , 0.76626659, 0.95641498, 0.63526925,\n",
       "        0.91651386, 0.8028762 , 0.40848902, 0.02025011, 0.31545416]])"
      ]
     },
     "execution_count": 22,
     "metadata": {},
     "output_type": "execute_result"
    }
   ],
   "source": [
    "M = np.random.rand (10, 10)\n",
    "M"
   ]
  },
  {
   "cell_type": "code",
   "execution_count": 23,
   "metadata": {},
   "outputs": [
    {
     "data": {
      "text/plain": [
       "array([[0.01022167, 0.40469858, 0.10968513, 0.1946261 , 0.73798205],\n",
       "       [0.73650149, 0.30536553, 0.80193822, 0.98899016, 0.8619975 ],\n",
       "       [0.61083233, 0.24641727, 0.84528429, 0.1109037 , 0.86603968],\n",
       "       [0.2768986 , 0.46158199, 0.00537274, 0.35450895, 0.13786345],\n",
       "       [0.93712436, 0.42888546, 0.52968141, 0.58990234, 0.84771578]])"
      ]
     },
     "execution_count": 23,
     "metadata": {},
     "output_type": "execute_result"
    }
   ],
   "source": [
    "MUL = M[:5, :5]\n",
    "MUR = M[:5, 5:]\n",
    "MLL = M[5:, :5]\n",
    "MLR = M[5:, 5:]\n",
    "\n",
    "MUL"
   ]
  },
  {
   "cell_type": "code",
   "execution_count": null,
   "metadata": {},
   "outputs": [],
   "source": []
  }
 ],
 "metadata": {
  "kernelspec": {
   "display_name": "Python 3",
   "language": "python",
   "name": "python3"
  },
  "language_info": {
   "codemirror_mode": {
    "name": "ipython",
    "version": 3
   },
   "file_extension": ".py",
   "mimetype": "text/x-python",
   "name": "python",
   "nbconvert_exporter": "python",
   "pygments_lexer": "ipython3",
   "version": "3.7.4"
  }
 },
 "nbformat": 4,
 "nbformat_minor": 2
}
