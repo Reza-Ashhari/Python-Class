{
 "cells": [
  {
   "cell_type": "code",
   "execution_count": 1,
   "metadata": {},
   "outputs": [
    {
     "name": "stdout",
     "output_type": "stream",
     "text": [
      "Enter the Year Number: 1900\n",
      "Not Leap\n"
     ]
    }
   ],
   "source": [
    "Num = int(input('Enter the Year Number: '))\n",
    "if Num%4 != 0 :\n",
    "    print('Not Leap')\n",
    "else:\n",
    "    if Num%100 != 0 :\n",
    "        print('Leap')\n",
    "    elif Num%400 ==0 :\n",
    "        print('Leap')\n",
    "    else:\n",
    "        print('Not Leap')"
   ]
  },
  {
   "cell_type": "code",
   "execution_count": null,
   "metadata": {},
   "outputs": [],
   "source": []
  }
 ],
 "metadata": {
  "kernelspec": {
   "display_name": "Python 3",
   "language": "python",
   "name": "python3"
  },
  "language_info": {
   "codemirror_mode": {
    "name": "ipython",
    "version": 3
   },
   "file_extension": ".py",
   "mimetype": "text/x-python",
   "name": "python",
   "nbconvert_exporter": "python",
   "pygments_lexer": "ipython3",
   "version": "3.7.4"
  }
 },
 "nbformat": 4,
 "nbformat_minor": 2
}
