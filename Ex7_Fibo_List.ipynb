{
 "cells": [
  {
   "cell_type": "code",
   "execution_count": 29,
   "metadata": {},
   "outputs": [
    {
     "name": "stdout",
     "output_type": "stream",
     "text": [
      "Enter a number: 15\n"
     ]
    },
    {
     "data": {
      "text/plain": [
       "[1, 1, 2, 3, 5, 8, 13, 21, 34, 55, 89, 144, 233, 377, 610]"
      ]
     },
     "execution_count": 29,
     "metadata": {},
     "output_type": "execute_result"
    }
   ],
   "source": [
    "\n",
    "def Fib_List (arg):\n",
    "    List = []\n",
    "    if arg == 1:\n",
    "        return List + [1]\n",
    "    elif arg == 2:\n",
    "        return Fib_List(1) + [1]\n",
    "    else:\n",
    "        NewNum = Fib_List(arg-1)[-1] + Fib_List(arg-1)[-2]\n",
    "        return Fib_List(arg-1) + [NewNum]\n",
    "    \n",
    "    \n",
    "Num = int(input('Enter a number: ' ))\n",
    "Fib_List(Num)"
   ]
  }
 ],
 "metadata": {
  "kernelspec": {
   "display_name": "Python 3",
   "language": "python",
   "name": "python3"
  },
  "language_info": {
   "codemirror_mode": {
    "name": "ipython",
    "version": 3
   },
   "file_extension": ".py",
   "mimetype": "text/x-python",
   "name": "python",
   "nbconvert_exporter": "python",
   "pygments_lexer": "ipython3",
   "version": "3.7.4"
  }
 },
 "nbformat": 4,
 "nbformat_minor": 2
}
